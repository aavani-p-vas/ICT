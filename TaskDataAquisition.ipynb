{
  "nbformat": 4,
  "nbformat_minor": 0,
  "metadata": {
    "colab": {
      "provenance": [],
      "authorship_tag": "ABX9TyNbV92fHQ2ownb9mfduS526",
      "include_colab_link": true
    },
    "kernelspec": {
      "name": "python3",
      "display_name": "Python 3"
    },
    "language_info": {
      "name": "python"
    }
  },
  "cells": [
    {
      "cell_type": "markdown",
      "metadata": {
        "id": "view-in-github",
        "colab_type": "text"
      },
      "source": [
        "<a href=\"https://colab.research.google.com/github/aavani-p-vas/ICT/blob/main/TaskDataAquisition.ipynb\" target=\"_parent\"><img src=\"https://colab.research.google.com/assets/colab-badge.svg\" alt=\"Open In Colab\"/></a>"
      ]
    },
    {
      "cell_type": "code",
      "execution_count": 6,
      "metadata": {
        "id": "ruoiCacoo4q6"
      },
      "outputs": [],
      "source": [
        "import pandas as pd"
      ]
    },
    {
      "cell_type": "markdown",
      "source": [
        "**Qn:Load the Dataset**"
      ],
      "metadata": {
        "id": "p44-fuDbsiQb"
      }
    },
    {
      "cell_type": "code",
      "source": [
        "df = pd.read_csv('/content/Groundwater_Restricted_Areas_4704774952054948320.csv')\n"
      ],
      "metadata": {
        "id": "XI_ksggJp8Lq"
      },
      "execution_count": 8,
      "outputs": []
    },
    {
      "cell_type": "markdown",
      "source": [
        "**Qn:e first few rows & pandas DataFrame**"
      ],
      "metadata": {
        "id": "Kgy7A5fdszSc"
      }
    },
    {
      "cell_type": "code",
      "source": [
        "df.head()"
      ],
      "metadata": {
        "colab": {
          "base_uri": "https://localhost:8080/",
          "height": 452
        },
        "id": "v-J2h_bSqL4q",
        "outputId": "370da663-e5d5-4fe6-f532-94b145afe56c"
      },
      "execution_count": 9,
      "outputs": [
        {
          "output_type": "execute_result",
          "data": {
            "text/plain": [
              "   OBJECTID           gwra_area_name gwra_status  \\\n",
              "0         1  Amity Hills/Walnut Hill     Limited   \n",
              "1         2                Butter Cr    Critical   \n",
              "2         3        Chehalem Mountain     Limited   \n",
              "3         4      Cooper Mtn-Bull Mtn    Critical   \n",
              "4         5               Cow Valley    Critical   \n",
              "\n",
              "                       gwra_ors          effective_date  \\\n",
              "0              OAR 690-502-0210   12/4/2003 12:00:00 AM   \n",
              "1    Special Order Vol. 40 Pg 1   1/27/1986 12:00:00 AM   \n",
              "2              OAR 690-502-0200   3/13/1992 12:00:00 AM   \n",
              "3  Special Order Vol. 24 Pg 370   5/17/1974 12:00:00 AM   \n",
              "4  Special Order Vol. 10 Pg 216  11/12/1959 12:00:00 AM   \n",
              "\n",
              "  affected_aquifer_formation  \\\n",
              "0      Columbia River Basalt   \n",
              "1      Columbia River Basalt   \n",
              "2      Columbia River Basalt   \n",
              "3      Columbia River Basalt   \n",
              "4           Alluvial aquifer   \n",
              "\n",
              "                                      allowable_uses  \\\n",
              "0         Exempt uses, Irrigation by limited license   \n",
              "1                                    Exempt Use Only   \n",
              "2  Exempt uses, 5-year permits on irrigation, fir...   \n",
              "3                                    Exempt Use Only   \n",
              "4                                    Exempt Use Only   \n",
              "\n",
              "                        other_limitations  affected_area_sq_mi  \\\n",
              "0  Irr. to establish crop Efficiency stds                 50.0   \n",
              "1                                     NaN                274.0   \n",
              "2    One ac-ft/ac on irr. Drip efficiency                104.0   \n",
              "3         Dom. exemption on 10 ac minimum                 41.0   \n",
              "4                                     NaN                 33.0   \n",
              "\n",
              "                                        exhibit_link  \\\n",
              "0  http://www.oregon.gov/owrd/law/docs/law/div_50...   \n",
              "1                                                NaN   \n",
              "2  http://www.oregon.gov/owrd/law/docs/law/div_50...   \n",
              "3                                                NaN   \n",
              "4                                                NaN   \n",
              "\n",
              "                                         source_link       gwra_area_name_key  \\\n",
              "0  https://secure.sos.state.or.us/oard/viewSingle...  Amity_Hills_Walnut_Hill   \n",
              "1  http://apps.wrd.state.or.us/apps/misc/vault/va...             Butter_Creek   \n",
              "2  https://secure.sos.state.or.us/oard/viewSingle...        Chehalem_Mountain   \n",
              "3  http://apps.wrd.state.or.us/apps/misc/vault/va...      Cooper_Mtn-Bull_Mtn   \n",
              "4  http://apps.wrd.state.or.us/apps/misc/vault/va...               Cow_Valley   \n",
              "\n",
              "   InPoly_FID  SimPgnFlag  MaxSimpTol  MinSimpTol   Shape__Area  Shape__Length  \n",
              "0           1           0    10.00002    10.00002  2.559535e+08   78675.143379  \n",
              "1           2           0    10.00002    10.00002  1.478191e+09  210183.321512  \n",
              "2           3           0    10.00002    10.00002  5.461372e+08  118926.432134  \n",
              "3           4           0    10.00002    10.00002  2.176091e+08   58782.166534  \n",
              "4           5           0    10.00002    10.00002  1.610897e+08   57772.595284  "
            ],
            "text/html": [
              "\n",
              "  <div id=\"df-357799be-3400-4d01-8601-04584eaf2d56\" class=\"colab-df-container\">\n",
              "    <div>\n",
              "<style scoped>\n",
              "    .dataframe tbody tr th:only-of-type {\n",
              "        vertical-align: middle;\n",
              "    }\n",
              "\n",
              "    .dataframe tbody tr th {\n",
              "        vertical-align: top;\n",
              "    }\n",
              "\n",
              "    .dataframe thead th {\n",
              "        text-align: right;\n",
              "    }\n",
              "</style>\n",
              "<table border=\"1\" class=\"dataframe\">\n",
              "  <thead>\n",
              "    <tr style=\"text-align: right;\">\n",
              "      <th></th>\n",
              "      <th>OBJECTID</th>\n",
              "      <th>gwra_area_name</th>\n",
              "      <th>gwra_status</th>\n",
              "      <th>gwra_ors</th>\n",
              "      <th>effective_date</th>\n",
              "      <th>affected_aquifer_formation</th>\n",
              "      <th>allowable_uses</th>\n",
              "      <th>other_limitations</th>\n",
              "      <th>affected_area_sq_mi</th>\n",
              "      <th>exhibit_link</th>\n",
              "      <th>source_link</th>\n",
              "      <th>gwra_area_name_key</th>\n",
              "      <th>InPoly_FID</th>\n",
              "      <th>SimPgnFlag</th>\n",
              "      <th>MaxSimpTol</th>\n",
              "      <th>MinSimpTol</th>\n",
              "      <th>Shape__Area</th>\n",
              "      <th>Shape__Length</th>\n",
              "    </tr>\n",
              "  </thead>\n",
              "  <tbody>\n",
              "    <tr>\n",
              "      <th>0</th>\n",
              "      <td>1</td>\n",
              "      <td>Amity Hills/Walnut Hill</td>\n",
              "      <td>Limited</td>\n",
              "      <td>OAR 690-502-0210</td>\n",
              "      <td>12/4/2003 12:00:00 AM</td>\n",
              "      <td>Columbia River Basalt</td>\n",
              "      <td>Exempt uses, Irrigation by limited license</td>\n",
              "      <td>Irr. to establish crop Efficiency stds</td>\n",
              "      <td>50.0</td>\n",
              "      <td>http://www.oregon.gov/owrd/law/docs/law/div_50...</td>\n",
              "      <td>https://secure.sos.state.or.us/oard/viewSingle...</td>\n",
              "      <td>Amity_Hills_Walnut_Hill</td>\n",
              "      <td>1</td>\n",
              "      <td>0</td>\n",
              "      <td>10.00002</td>\n",
              "      <td>10.00002</td>\n",
              "      <td>2.559535e+08</td>\n",
              "      <td>78675.143379</td>\n",
              "    </tr>\n",
              "    <tr>\n",
              "      <th>1</th>\n",
              "      <td>2</td>\n",
              "      <td>Butter Cr</td>\n",
              "      <td>Critical</td>\n",
              "      <td>Special Order Vol. 40 Pg 1</td>\n",
              "      <td>1/27/1986 12:00:00 AM</td>\n",
              "      <td>Columbia River Basalt</td>\n",
              "      <td>Exempt Use Only</td>\n",
              "      <td>NaN</td>\n",
              "      <td>274.0</td>\n",
              "      <td>NaN</td>\n",
              "      <td>http://apps.wrd.state.or.us/apps/misc/vault/va...</td>\n",
              "      <td>Butter_Creek</td>\n",
              "      <td>2</td>\n",
              "      <td>0</td>\n",
              "      <td>10.00002</td>\n",
              "      <td>10.00002</td>\n",
              "      <td>1.478191e+09</td>\n",
              "      <td>210183.321512</td>\n",
              "    </tr>\n",
              "    <tr>\n",
              "      <th>2</th>\n",
              "      <td>3</td>\n",
              "      <td>Chehalem Mountain</td>\n",
              "      <td>Limited</td>\n",
              "      <td>OAR 690-502-0200</td>\n",
              "      <td>3/13/1992 12:00:00 AM</td>\n",
              "      <td>Columbia River Basalt</td>\n",
              "      <td>Exempt uses, 5-year permits on irrigation, fir...</td>\n",
              "      <td>One ac-ft/ac on irr. Drip efficiency</td>\n",
              "      <td>104.0</td>\n",
              "      <td>http://www.oregon.gov/owrd/law/docs/law/div_50...</td>\n",
              "      <td>https://secure.sos.state.or.us/oard/viewSingle...</td>\n",
              "      <td>Chehalem_Mountain</td>\n",
              "      <td>3</td>\n",
              "      <td>0</td>\n",
              "      <td>10.00002</td>\n",
              "      <td>10.00002</td>\n",
              "      <td>5.461372e+08</td>\n",
              "      <td>118926.432134</td>\n",
              "    </tr>\n",
              "    <tr>\n",
              "      <th>3</th>\n",
              "      <td>4</td>\n",
              "      <td>Cooper Mtn-Bull Mtn</td>\n",
              "      <td>Critical</td>\n",
              "      <td>Special Order Vol. 24 Pg 370</td>\n",
              "      <td>5/17/1974 12:00:00 AM</td>\n",
              "      <td>Columbia River Basalt</td>\n",
              "      <td>Exempt Use Only</td>\n",
              "      <td>Dom. exemption on 10 ac minimum</td>\n",
              "      <td>41.0</td>\n",
              "      <td>NaN</td>\n",
              "      <td>http://apps.wrd.state.or.us/apps/misc/vault/va...</td>\n",
              "      <td>Cooper_Mtn-Bull_Mtn</td>\n",
              "      <td>4</td>\n",
              "      <td>0</td>\n",
              "      <td>10.00002</td>\n",
              "      <td>10.00002</td>\n",
              "      <td>2.176091e+08</td>\n",
              "      <td>58782.166534</td>\n",
              "    </tr>\n",
              "    <tr>\n",
              "      <th>4</th>\n",
              "      <td>5</td>\n",
              "      <td>Cow Valley</td>\n",
              "      <td>Critical</td>\n",
              "      <td>Special Order Vol. 10 Pg 216</td>\n",
              "      <td>11/12/1959 12:00:00 AM</td>\n",
              "      <td>Alluvial aquifer</td>\n",
              "      <td>Exempt Use Only</td>\n",
              "      <td>NaN</td>\n",
              "      <td>33.0</td>\n",
              "      <td>NaN</td>\n",
              "      <td>http://apps.wrd.state.or.us/apps/misc/vault/va...</td>\n",
              "      <td>Cow_Valley</td>\n",
              "      <td>5</td>\n",
              "      <td>0</td>\n",
              "      <td>10.00002</td>\n",
              "      <td>10.00002</td>\n",
              "      <td>1.610897e+08</td>\n",
              "      <td>57772.595284</td>\n",
              "    </tr>\n",
              "  </tbody>\n",
              "</table>\n",
              "</div>\n",
              "    <div class=\"colab-df-buttons\">\n",
              "\n",
              "  <div class=\"colab-df-container\">\n",
              "    <button class=\"colab-df-convert\" onclick=\"convertToInteractive('df-357799be-3400-4d01-8601-04584eaf2d56')\"\n",
              "            title=\"Convert this dataframe to an interactive table.\"\n",
              "            style=\"display:none;\">\n",
              "\n",
              "  <svg xmlns=\"http://www.w3.org/2000/svg\" height=\"24px\" viewBox=\"0 -960 960 960\">\n",
              "    <path d=\"M120-120v-720h720v720H120Zm60-500h600v-160H180v160Zm220 220h160v-160H400v160Zm0 220h160v-160H400v160ZM180-400h160v-160H180v160Zm440 0h160v-160H620v160ZM180-180h160v-160H180v160Zm440 0h160v-160H620v160Z\"/>\n",
              "  </svg>\n",
              "    </button>\n",
              "\n",
              "  <style>\n",
              "    .colab-df-container {\n",
              "      display:flex;\n",
              "      gap: 12px;\n",
              "    }\n",
              "\n",
              "    .colab-df-convert {\n",
              "      background-color: #E8F0FE;\n",
              "      border: none;\n",
              "      border-radius: 50%;\n",
              "      cursor: pointer;\n",
              "      display: none;\n",
              "      fill: #1967D2;\n",
              "      height: 32px;\n",
              "      padding: 0 0 0 0;\n",
              "      width: 32px;\n",
              "    }\n",
              "\n",
              "    .colab-df-convert:hover {\n",
              "      background-color: #E2EBFA;\n",
              "      box-shadow: 0px 1px 2px rgba(60, 64, 67, 0.3), 0px 1px 3px 1px rgba(60, 64, 67, 0.15);\n",
              "      fill: #174EA6;\n",
              "    }\n",
              "\n",
              "    .colab-df-buttons div {\n",
              "      margin-bottom: 4px;\n",
              "    }\n",
              "\n",
              "    [theme=dark] .colab-df-convert {\n",
              "      background-color: #3B4455;\n",
              "      fill: #D2E3FC;\n",
              "    }\n",
              "\n",
              "    [theme=dark] .colab-df-convert:hover {\n",
              "      background-color: #434B5C;\n",
              "      box-shadow: 0px 1px 3px 1px rgba(0, 0, 0, 0.15);\n",
              "      filter: drop-shadow(0px 1px 2px rgba(0, 0, 0, 0.3));\n",
              "      fill: #FFFFFF;\n",
              "    }\n",
              "  </style>\n",
              "\n",
              "    <script>\n",
              "      const buttonEl =\n",
              "        document.querySelector('#df-357799be-3400-4d01-8601-04584eaf2d56 button.colab-df-convert');\n",
              "      buttonEl.style.display =\n",
              "        google.colab.kernel.accessAllowed ? 'block' : 'none';\n",
              "\n",
              "      async function convertToInteractive(key) {\n",
              "        const element = document.querySelector('#df-357799be-3400-4d01-8601-04584eaf2d56');\n",
              "        const dataTable =\n",
              "          await google.colab.kernel.invokeFunction('convertToInteractive',\n",
              "                                                    [key], {});\n",
              "        if (!dataTable) return;\n",
              "\n",
              "        const docLinkHtml = 'Like what you see? Visit the ' +\n",
              "          '<a target=\"_blank\" href=https://colab.research.google.com/notebooks/data_table.ipynb>data table notebook</a>'\n",
              "          + ' to learn more about interactive tables.';\n",
              "        element.innerHTML = '';\n",
              "        dataTable['output_type'] = 'display_data';\n",
              "        await google.colab.output.renderOutput(dataTable, element);\n",
              "        const docLink = document.createElement('div');\n",
              "        docLink.innerHTML = docLinkHtml;\n",
              "        element.appendChild(docLink);\n",
              "      }\n",
              "    </script>\n",
              "  </div>\n",
              "\n",
              "\n",
              "<div id=\"df-acc1eba9-3255-4d7e-a3d5-8940031dfcde\">\n",
              "  <button class=\"colab-df-quickchart\" onclick=\"quickchart('df-acc1eba9-3255-4d7e-a3d5-8940031dfcde')\"\n",
              "            title=\"Suggest charts\"\n",
              "            style=\"display:none;\">\n",
              "\n",
              "<svg xmlns=\"http://www.w3.org/2000/svg\" height=\"24px\"viewBox=\"0 0 24 24\"\n",
              "     width=\"24px\">\n",
              "    <g>\n",
              "        <path d=\"M19 3H5c-1.1 0-2 .9-2 2v14c0 1.1.9 2 2 2h14c1.1 0 2-.9 2-2V5c0-1.1-.9-2-2-2zM9 17H7v-7h2v7zm4 0h-2V7h2v10zm4 0h-2v-4h2v4z\"/>\n",
              "    </g>\n",
              "</svg>\n",
              "  </button>\n",
              "\n",
              "<style>\n",
              "  .colab-df-quickchart {\n",
              "      --bg-color: #E8F0FE;\n",
              "      --fill-color: #1967D2;\n",
              "      --hover-bg-color: #E2EBFA;\n",
              "      --hover-fill-color: #174EA6;\n",
              "      --disabled-fill-color: #AAA;\n",
              "      --disabled-bg-color: #DDD;\n",
              "  }\n",
              "\n",
              "  [theme=dark] .colab-df-quickchart {\n",
              "      --bg-color: #3B4455;\n",
              "      --fill-color: #D2E3FC;\n",
              "      --hover-bg-color: #434B5C;\n",
              "      --hover-fill-color: #FFFFFF;\n",
              "      --disabled-bg-color: #3B4455;\n",
              "      --disabled-fill-color: #666;\n",
              "  }\n",
              "\n",
              "  .colab-df-quickchart {\n",
              "    background-color: var(--bg-color);\n",
              "    border: none;\n",
              "    border-radius: 50%;\n",
              "    cursor: pointer;\n",
              "    display: none;\n",
              "    fill: var(--fill-color);\n",
              "    height: 32px;\n",
              "    padding: 0;\n",
              "    width: 32px;\n",
              "  }\n",
              "\n",
              "  .colab-df-quickchart:hover {\n",
              "    background-color: var(--hover-bg-color);\n",
              "    box-shadow: 0 1px 2px rgba(60, 64, 67, 0.3), 0 1px 3px 1px rgba(60, 64, 67, 0.15);\n",
              "    fill: var(--button-hover-fill-color);\n",
              "  }\n",
              "\n",
              "  .colab-df-quickchart-complete:disabled,\n",
              "  .colab-df-quickchart-complete:disabled:hover {\n",
              "    background-color: var(--disabled-bg-color);\n",
              "    fill: var(--disabled-fill-color);\n",
              "    box-shadow: none;\n",
              "  }\n",
              "\n",
              "  .colab-df-spinner {\n",
              "    border: 2px solid var(--fill-color);\n",
              "    border-color: transparent;\n",
              "    border-bottom-color: var(--fill-color);\n",
              "    animation:\n",
              "      spin 1s steps(1) infinite;\n",
              "  }\n",
              "\n",
              "  @keyframes spin {\n",
              "    0% {\n",
              "      border-color: transparent;\n",
              "      border-bottom-color: var(--fill-color);\n",
              "      border-left-color: var(--fill-color);\n",
              "    }\n",
              "    20% {\n",
              "      border-color: transparent;\n",
              "      border-left-color: var(--fill-color);\n",
              "      border-top-color: var(--fill-color);\n",
              "    }\n",
              "    30% {\n",
              "      border-color: transparent;\n",
              "      border-left-color: var(--fill-color);\n",
              "      border-top-color: var(--fill-color);\n",
              "      border-right-color: var(--fill-color);\n",
              "    }\n",
              "    40% {\n",
              "      border-color: transparent;\n",
              "      border-right-color: var(--fill-color);\n",
              "      border-top-color: var(--fill-color);\n",
              "    }\n",
              "    60% {\n",
              "      border-color: transparent;\n",
              "      border-right-color: var(--fill-color);\n",
              "    }\n",
              "    80% {\n",
              "      border-color: transparent;\n",
              "      border-right-color: var(--fill-color);\n",
              "      border-bottom-color: var(--fill-color);\n",
              "    }\n",
              "    90% {\n",
              "      border-color: transparent;\n",
              "      border-bottom-color: var(--fill-color);\n",
              "    }\n",
              "  }\n",
              "</style>\n",
              "\n",
              "  <script>\n",
              "    async function quickchart(key) {\n",
              "      const quickchartButtonEl =\n",
              "        document.querySelector('#' + key + ' button');\n",
              "      quickchartButtonEl.disabled = true;  // To prevent multiple clicks.\n",
              "      quickchartButtonEl.classList.add('colab-df-spinner');\n",
              "      try {\n",
              "        const charts = await google.colab.kernel.invokeFunction(\n",
              "            'suggestCharts', [key], {});\n",
              "      } catch (error) {\n",
              "        console.error('Error during call to suggestCharts:', error);\n",
              "      }\n",
              "      quickchartButtonEl.classList.remove('colab-df-spinner');\n",
              "      quickchartButtonEl.classList.add('colab-df-quickchart-complete');\n",
              "    }\n",
              "    (() => {\n",
              "      let quickchartButtonEl =\n",
              "        document.querySelector('#df-acc1eba9-3255-4d7e-a3d5-8940031dfcde button');\n",
              "      quickchartButtonEl.style.display =\n",
              "        google.colab.kernel.accessAllowed ? 'block' : 'none';\n",
              "    })();\n",
              "  </script>\n",
              "</div>\n",
              "\n",
              "    </div>\n",
              "  </div>\n"
            ],
            "application/vnd.google.colaboratory.intrinsic+json": {
              "type": "dataframe",
              "variable_name": "df",
              "summary": "{\n  \"name\": \"df\",\n  \"rows\": 29,\n  \"fields\": [\n    {\n      \"column\": \"OBJECTID\",\n      \"properties\": {\n        \"dtype\": \"number\",\n        \"std\": 8,\n        \"min\": 1,\n        \"max\": 29,\n        \"num_unique_values\": 29,\n        \"samples\": [\n          28,\n          17,\n          13\n        ],\n        \"semantic_type\": \"\",\n        \"description\": \"\"\n      }\n    },\n    {\n      \"column\": \"gwra_area_name\",\n      \"properties\": {\n        \"dtype\": \"string\",\n        \"num_unique_values\": 29,\n        \"samples\": [\n          \"Smith River\",\n          \"Sherwood-Dammasch-Wilsonville\",\n          \"Ordnance Basalt\"\n        ],\n        \"semantic_type\": \"\",\n        \"description\": \"\"\n      }\n    },\n    {\n      \"column\": \"gwra_status\",\n      \"properties\": {\n        \"dtype\": \"category\",\n        \"num_unique_values\": 5,\n        \"samples\": [\n          \"Critical\",\n          \"Groundwater Mitigation\",\n          \"Classified\"\n        ],\n        \"semantic_type\": \"\",\n        \"description\": \"\"\n      }\n    },\n    {\n      \"column\": \"gwra_ors\",\n      \"properties\": {\n        \"dtype\": \"string\",\n        \"num_unique_values\": 20,\n        \"samples\": [\n          \"OAR 690-502-0210\",\n          \"OAR 690-505 and 690-521\",\n          \"OAR 690-512-0020\"\n        ],\n        \"semantic_type\": \"\",\n        \"description\": \"\"\n      }\n    },\n    {\n      \"column\": \"effective_date\",\n      \"properties\": {\n        \"dtype\": \"object\",\n        \"num_unique_values\": 16,\n        \"samples\": [\n          \"12/4/2003 12:00:00 AM\",\n          \"1/27/1986 12:00:00 AM\",\n          \"1/25/1990 12:00:00 AM\"\n        ],\n        \"semantic_type\": \"\",\n        \"description\": \"\"\n      }\n    },\n    {\n      \"column\": \"affected_aquifer_formation\",\n      \"properties\": {\n        \"dtype\": \"category\",\n        \"num_unique_values\": 9,\n        \"samples\": [\n          \"ALL\",\n          \"Alluvial aquifer\",\n          \"Shallow Troutdale, Deep Troutdale Formation\"\n        ],\n        \"semantic_type\": \"\",\n        \"description\": \"\"\n      }\n    },\n    {\n      \"column\": \"allowable_uses\",\n      \"properties\": {\n        \"dtype\": \"category\",\n        \"num_unique_values\": 9,\n        \"samples\": [\n          \"No restriction\",\n          \"Exempt Use Only\",\n          \"No new uses\"\n        ],\n        \"semantic_type\": \"\",\n        \"description\": \"\"\n      }\n    },\n    {\n      \"column\": \"other_limitations\",\n      \"properties\": {\n        \"dtype\": \"category\",\n        \"num_unique_values\": 5,\n        \"samples\": [\n          \"One ac-ft/ac on irr. Drip efficiency\",\n          \"Mitigation required\",\n          \"Dom. exemption on 10 ac minimum\"\n        ],\n        \"semantic_type\": \"\",\n        \"description\": \"\"\n      }\n    },\n    {\n      \"column\": \"affected_area_sq_mi\",\n      \"properties\": {\n        \"dtype\": \"number\",\n        \"std\": 977.259670820311,\n        \"min\": 1.0,\n        \"max\": 4500.0,\n        \"num_unique_values\": 28,\n        \"samples\": [\n          25.0,\n          4500.0,\n          2161.0\n        ],\n        \"semantic_type\": \"\",\n        \"description\": \"\"\n      }\n    },\n    {\n      \"column\": \"exhibit_link\",\n      \"properties\": {\n        \"dtype\": \"category\",\n        \"num_unique_values\": 5,\n        \"samples\": [\n          \"http://www.oregon.gov/owrd/LAW/docs/law/690_507_Exhibitmaps_2017_May_22.pdf\",\n          \"http://www.oregon.gov/owrd/law/docs/law/division_505_exhibit1_map.pdf\",\n          \"http://www.oregon.gov/owrd/LAW/docs/690-512Exhibit1.pdf\"\n        ],\n        \"semantic_type\": \"\",\n        \"description\": \"\"\n      }\n    },\n    {\n      \"column\": \"source_link\",\n      \"properties\": {\n        \"dtype\": \"string\",\n        \"num_unique_values\": 20,\n        \"samples\": [\n          \"https://secure.sos.state.or.us/oard/viewSingleRule.action?ruleVrsnRsn=179896\",\n          \"http://arcweb.sos.state.or.us/pages/rules/oars_600/oar_690/690_505.html\",\n          \"https://secure.sos.state.or.us/oard/viewSingleRule.action?ruleVrsnRsn=180246\"\n        ],\n        \"semantic_type\": \"\",\n        \"description\": \"\"\n      }\n    },\n    {\n      \"column\": \"gwra_area_name_key\",\n      \"properties\": {\n        \"dtype\": \"string\",\n        \"num_unique_values\": 29,\n        \"samples\": [\n          \"Smith_River\",\n          \"Sherwood-Dammasch-Wilsonville\",\n          \"Ordnance_Basalt\"\n        ],\n        \"semantic_type\": \"\",\n        \"description\": \"\"\n      }\n    },\n    {\n      \"column\": \"InPoly_FID\",\n      \"properties\": {\n        \"dtype\": \"number\",\n        \"std\": 8,\n        \"min\": 1,\n        \"max\": 31,\n        \"num_unique_values\": 29,\n        \"samples\": [\n          28,\n          17,\n          13\n        ],\n        \"semantic_type\": \"\",\n        \"description\": \"\"\n      }\n    },\n    {\n      \"column\": \"SimPgnFlag\",\n      \"properties\": {\n        \"dtype\": \"number\",\n        \"std\": 0,\n        \"min\": 0,\n        \"max\": 0,\n        \"num_unique_values\": 1,\n        \"samples\": [\n          0\n        ],\n        \"semantic_type\": \"\",\n        \"description\": \"\"\n      }\n    },\n    {\n      \"column\": \"MaxSimpTol\",\n      \"properties\": {\n        \"dtype\": \"number\",\n        \"std\": 1.8077992244482297e-15,\n        \"min\": 10.00002,\n        \"max\": 10.00002,\n        \"num_unique_values\": 1,\n        \"samples\": [\n          10.00002\n        ],\n        \"semantic_type\": \"\",\n        \"description\": \"\"\n      }\n    },\n    {\n      \"column\": \"MinSimpTol\",\n      \"properties\": {\n        \"dtype\": \"number\",\n        \"std\": 1.8077992244482297e-15,\n        \"min\": 10.00002,\n        \"max\": 10.00002,\n        \"num_unique_values\": 1,\n        \"samples\": [\n          10.00002\n        ],\n        \"semantic_type\": \"\",\n        \"description\": \"\"\n      }\n    },\n    {\n      \"column\": \"Shape__Area\",\n      \"properties\": {\n        \"dtype\": \"number\",\n        \"std\": 5072705892.887168,\n        \"min\": 2918116.5390625,\n        \"max\": 22649284318.3203,\n        \"num_unique_values\": 29,\n        \"samples\": [\n          424638509.195313\n        ],\n        \"semantic_type\": \"\",\n        \"description\": \"\"\n      }\n    },\n    {\n      \"column\": \"Shape__Length\",\n      \"properties\": {\n        \"dtype\": \"number\",\n        \"std\": 242909.87413914155,\n        \"min\": 8964.91724697359,\n        \"max\": 953552.253532837,\n        \"num_unique_values\": 29,\n        \"samples\": [\n          101342.816485408\n        ],\n        \"semantic_type\": \"\",\n        \"description\": \"\"\n      }\n    }\n  ]\n}"
            }
          },
          "metadata": {},
          "execution_count": 9
        }
      ]
    },
    {
      "cell_type": "markdown",
      "source": [
        "** Qn:summary statistics**"
      ],
      "metadata": {
        "id": "R52864fvtp7w"
      }
    },
    {
      "cell_type": "code",
      "source": [
        "df.info()"
      ],
      "metadata": {
        "colab": {
          "base_uri": "https://localhost:8080/"
        },
        "id": "huZEOIlgqtIT",
        "outputId": "cfcffe7c-c435-4015-faca-adf0035db5a6"
      },
      "execution_count": 10,
      "outputs": [
        {
          "output_type": "stream",
          "name": "stdout",
          "text": [
            "<class 'pandas.core.frame.DataFrame'>\n",
            "RangeIndex: 29 entries, 0 to 28\n",
            "Data columns (total 18 columns):\n",
            " #   Column                      Non-Null Count  Dtype  \n",
            "---  ------                      --------------  -----  \n",
            " 0   OBJECTID                    29 non-null     int64  \n",
            " 1   gwra_area_name              29 non-null     object \n",
            " 2   gwra_status                 29 non-null     object \n",
            " 3   gwra_ors                    28 non-null     object \n",
            " 4   effective_date              28 non-null     object \n",
            " 5   affected_aquifer_formation  28 non-null     object \n",
            " 6   allowable_uses              28 non-null     object \n",
            " 7   other_limitations           7 non-null      object \n",
            " 8   affected_area_sq_mi         29 non-null     float64\n",
            " 9   exhibit_link                18 non-null     object \n",
            " 10  source_link                 28 non-null     object \n",
            " 11  gwra_area_name_key          29 non-null     object \n",
            " 12  InPoly_FID                  29 non-null     int64  \n",
            " 13  SimPgnFlag                  29 non-null     int64  \n",
            " 14  MaxSimpTol                  29 non-null     float64\n",
            " 15  MinSimpTol                  29 non-null     float64\n",
            " 16  Shape__Area                 29 non-null     float64\n",
            " 17  Shape__Length               29 non-null     float64\n",
            "dtypes: float64(5), int64(3), object(10)\n",
            "memory usage: 4.2+ KB\n"
          ]
        }
      ]
    },
    {
      "cell_type": "markdown",
      "source": [
        "**Qn: Number of rows and columns**"
      ],
      "metadata": {
        "id": "FtPnEOkhuZAu"
      }
    },
    {
      "cell_type": "code",
      "source": [
        "Rows_num, Columns_num = df.shape\n",
        "print(f' Number of{Rows_num}Rows and {Columns_num}Columns')"
      ],
      "metadata": {
        "colab": {
          "base_uri": "https://localhost:8080/"
        },
        "id": "M4lpqai1rRlz",
        "outputId": "7340025c-9625-40ec-8123-971b4cd6ec31"
      },
      "execution_count": null,
      "outputs": [
        {
          "output_type": "stream",
          "name": "stdout",
          "text": [
            " Number of29Rows and 18Columns\n"
          ]
        }
      ]
    },
    {
      "cell_type": "code",
      "source": [
        "df.shape"
      ],
      "metadata": {
        "colab": {
          "base_uri": "https://localhost:8080/"
        },
        "id": "ImmQjkaRzIpT",
        "outputId": "6e1198e8-75e6-46b8-90f0-9807b2229921"
      },
      "execution_count": null,
      "outputs": [
        {
          "output_type": "execute_result",
          "data": {
            "text/plain": [
              "(29, 18)"
            ]
          },
          "metadata": {},
          "execution_count": 23
        }
      ]
    },
    {
      "cell_type": "markdown",
      "source": [
        "**Qn:data types of each column**"
      ],
      "metadata": {
        "id": "Xw4VMswuw86q"
      }
    },
    {
      "cell_type": "code",
      "source": [
        "df.dtypes\n"
      ],
      "metadata": {
        "colab": {
          "base_uri": "https://localhost:8080/",
          "height": 649
        },
        "id": "pbFFQLpWus70",
        "outputId": "5ca09124-df46-49ed-850f-a0b05fda711c"
      },
      "execution_count": null,
      "outputs": [
        {
          "output_type": "execute_result",
          "data": {
            "text/plain": [
              "OBJECTID                        int64\n",
              "gwra_area_name                 object\n",
              "gwra_status                    object\n",
              "gwra_ors                       object\n",
              "effective_date                 object\n",
              "affected_aquifer_formation     object\n",
              "allowable_uses                 object\n",
              "other_limitations              object\n",
              "affected_area_sq_mi           float64\n",
              "exhibit_link                   object\n",
              "source_link                    object\n",
              "gwra_area_name_key             object\n",
              "InPoly_FID                      int64\n",
              "SimPgnFlag                      int64\n",
              "MaxSimpTol                    float64\n",
              "MinSimpTol                    float64\n",
              "Shape__Area                   float64\n",
              "Shape__Length                 float64\n",
              "dtype: object"
            ],
            "text/html": [
              "<div>\n",
              "<style scoped>\n",
              "    .dataframe tbody tr th:only-of-type {\n",
              "        vertical-align: middle;\n",
              "    }\n",
              "\n",
              "    .dataframe tbody tr th {\n",
              "        vertical-align: top;\n",
              "    }\n",
              "\n",
              "    .dataframe thead th {\n",
              "        text-align: right;\n",
              "    }\n",
              "</style>\n",
              "<table border=\"1\" class=\"dataframe\">\n",
              "  <thead>\n",
              "    <tr style=\"text-align: right;\">\n",
              "      <th></th>\n",
              "      <th>0</th>\n",
              "    </tr>\n",
              "  </thead>\n",
              "  <tbody>\n",
              "    <tr>\n",
              "      <th>OBJECTID</th>\n",
              "      <td>int64</td>\n",
              "    </tr>\n",
              "    <tr>\n",
              "      <th>gwra_area_name</th>\n",
              "      <td>object</td>\n",
              "    </tr>\n",
              "    <tr>\n",
              "      <th>gwra_status</th>\n",
              "      <td>object</td>\n",
              "    </tr>\n",
              "    <tr>\n",
              "      <th>gwra_ors</th>\n",
              "      <td>object</td>\n",
              "    </tr>\n",
              "    <tr>\n",
              "      <th>effective_date</th>\n",
              "      <td>object</td>\n",
              "    </tr>\n",
              "    <tr>\n",
              "      <th>affected_aquifer_formation</th>\n",
              "      <td>object</td>\n",
              "    </tr>\n",
              "    <tr>\n",
              "      <th>allowable_uses</th>\n",
              "      <td>object</td>\n",
              "    </tr>\n",
              "    <tr>\n",
              "      <th>other_limitations</th>\n",
              "      <td>object</td>\n",
              "    </tr>\n",
              "    <tr>\n",
              "      <th>affected_area_sq_mi</th>\n",
              "      <td>float64</td>\n",
              "    </tr>\n",
              "    <tr>\n",
              "      <th>exhibit_link</th>\n",
              "      <td>object</td>\n",
              "    </tr>\n",
              "    <tr>\n",
              "      <th>source_link</th>\n",
              "      <td>object</td>\n",
              "    </tr>\n",
              "    <tr>\n",
              "      <th>gwra_area_name_key</th>\n",
              "      <td>object</td>\n",
              "    </tr>\n",
              "    <tr>\n",
              "      <th>InPoly_FID</th>\n",
              "      <td>int64</td>\n",
              "    </tr>\n",
              "    <tr>\n",
              "      <th>SimPgnFlag</th>\n",
              "      <td>int64</td>\n",
              "    </tr>\n",
              "    <tr>\n",
              "      <th>MaxSimpTol</th>\n",
              "      <td>float64</td>\n",
              "    </tr>\n",
              "    <tr>\n",
              "      <th>MinSimpTol</th>\n",
              "      <td>float64</td>\n",
              "    </tr>\n",
              "    <tr>\n",
              "      <th>Shape__Area</th>\n",
              "      <td>float64</td>\n",
              "    </tr>\n",
              "    <tr>\n",
              "      <th>Shape__Length</th>\n",
              "      <td>float64</td>\n",
              "    </tr>\n",
              "  </tbody>\n",
              "</table>\n",
              "</div><br><label><b>dtype:</b> object</label>"
            ]
          },
          "metadata": {},
          "execution_count": 20
        }
      ]
    },
    {
      "cell_type": "markdown",
      "source": [
        "**Missing values,columns & how many**"
      ],
      "metadata": {
        "id": "8m1y1MjDzb3Z"
      }
    },
    {
      "cell_type": "code",
      "source": [
        "df.isnull().sum()"
      ],
      "metadata": {
        "colab": {
          "base_uri": "https://localhost:8080/",
          "height": 649
        },
        "id": "zn4_rERzx8Jb",
        "outputId": "cb8a888a-b9bd-435a-98aa-3d5b60476d5d"
      },
      "execution_count": null,
      "outputs": [
        {
          "output_type": "execute_result",
          "data": {
            "text/plain": [
              "OBJECTID                       0\n",
              "gwra_area_name                 0\n",
              "gwra_status                    0\n",
              "gwra_ors                       1\n",
              "effective_date                 1\n",
              "affected_aquifer_formation     1\n",
              "allowable_uses                 1\n",
              "other_limitations             22\n",
              "affected_area_sq_mi            0\n",
              "exhibit_link                  11\n",
              "source_link                    1\n",
              "gwra_area_name_key             0\n",
              "InPoly_FID                     0\n",
              "SimPgnFlag                     0\n",
              "MaxSimpTol                     0\n",
              "MinSimpTol                     0\n",
              "Shape__Area                    0\n",
              "Shape__Length                  0\n",
              "dtype: int64"
            ],
            "text/html": [
              "<div>\n",
              "<style scoped>\n",
              "    .dataframe tbody tr th:only-of-type {\n",
              "        vertical-align: middle;\n",
              "    }\n",
              "\n",
              "    .dataframe tbody tr th {\n",
              "        vertical-align: top;\n",
              "    }\n",
              "\n",
              "    .dataframe thead th {\n",
              "        text-align: right;\n",
              "    }\n",
              "</style>\n",
              "<table border=\"1\" class=\"dataframe\">\n",
              "  <thead>\n",
              "    <tr style=\"text-align: right;\">\n",
              "      <th></th>\n",
              "      <th>0</th>\n",
              "    </tr>\n",
              "  </thead>\n",
              "  <tbody>\n",
              "    <tr>\n",
              "      <th>OBJECTID</th>\n",
              "      <td>0</td>\n",
              "    </tr>\n",
              "    <tr>\n",
              "      <th>gwra_area_name</th>\n",
              "      <td>0</td>\n",
              "    </tr>\n",
              "    <tr>\n",
              "      <th>gwra_status</th>\n",
              "      <td>0</td>\n",
              "    </tr>\n",
              "    <tr>\n",
              "      <th>gwra_ors</th>\n",
              "      <td>1</td>\n",
              "    </tr>\n",
              "    <tr>\n",
              "      <th>effective_date</th>\n",
              "      <td>1</td>\n",
              "    </tr>\n",
              "    <tr>\n",
              "      <th>affected_aquifer_formation</th>\n",
              "      <td>1</td>\n",
              "    </tr>\n",
              "    <tr>\n",
              "      <th>allowable_uses</th>\n",
              "      <td>1</td>\n",
              "    </tr>\n",
              "    <tr>\n",
              "      <th>other_limitations</th>\n",
              "      <td>22</td>\n",
              "    </tr>\n",
              "    <tr>\n",
              "      <th>affected_area_sq_mi</th>\n",
              "      <td>0</td>\n",
              "    </tr>\n",
              "    <tr>\n",
              "      <th>exhibit_link</th>\n",
              "      <td>11</td>\n",
              "    </tr>\n",
              "    <tr>\n",
              "      <th>source_link</th>\n",
              "      <td>1</td>\n",
              "    </tr>\n",
              "    <tr>\n",
              "      <th>gwra_area_name_key</th>\n",
              "      <td>0</td>\n",
              "    </tr>\n",
              "    <tr>\n",
              "      <th>InPoly_FID</th>\n",
              "      <td>0</td>\n",
              "    </tr>\n",
              "    <tr>\n",
              "      <th>SimPgnFlag</th>\n",
              "      <td>0</td>\n",
              "    </tr>\n",
              "    <tr>\n",
              "      <th>MaxSimpTol</th>\n",
              "      <td>0</td>\n",
              "    </tr>\n",
              "    <tr>\n",
              "      <th>MinSimpTol</th>\n",
              "      <td>0</td>\n",
              "    </tr>\n",
              "    <tr>\n",
              "      <th>Shape__Area</th>\n",
              "      <td>0</td>\n",
              "    </tr>\n",
              "    <tr>\n",
              "      <th>Shape__Length</th>\n",
              "      <td>0</td>\n",
              "    </tr>\n",
              "  </tbody>\n",
              "</table>\n",
              "</div><br><label><b>dtype:</b> int64</label>"
            ]
          },
          "metadata": {},
          "execution_count": 24
        }
      ]
    },
    {
      "cell_type": "markdown",
      "source": [
        "**Qn:Unique values and How many- in a categorical column**"
      ],
      "metadata": {
        "id": "5HOoBsJo0xoi"
      }
    },
    {
      "cell_type": "code",
      "source": [
        "Unique_values = df[\"affected_aquifer_formation\"] .unique()\n",
        "Num_of_Unique_Values = len(Unique_values)\n",
        "print(Unique_values)\n",
        "print('Number of Unique Values:',Num_of_Unique_Values)\n"
      ],
      "metadata": {
        "colab": {
          "base_uri": "https://localhost:8080/"
        },
        "id": "igbVMFbczZpV",
        "outputId": "4e5148b1-e45c-4513-f5dc-74f50a25c7c4"
      },
      "execution_count": null,
      "outputs": [
        {
          "output_type": "stream",
          "name": "stdout",
          "text": [
            "['Columbia River Basalt' 'Alluvial aquifer'\n",
            " 'Columbia River Basalt Troutdale Formation' 'Basin fill / volcanics'\n",
            " 'Pomona & Priest Rapids qauifers of Columbia River Basalt Group'\n",
            " 'Shallow Troutdale, Deep Troutdale Formation'\n",
            " 'Sand Dune and Bedrock Aquifers' 'ALL'\n",
            " 'Basin fill / Columbia River Basalt' nan]\n",
            "Number of Unique Values: 10\n"
          ]
        }
      ]
    },
    {
      "cell_type": "markdown",
      "source": [
        "**Qn:A numerical column- Mean,Median & SD**"
      ],
      "metadata": {
        "id": "Rzw_BMjv4dbK"
      }
    },
    {
      "cell_type": "code",
      "source": [
        "Mean_area = df['affected_area_sq_mi'].mean()\n",
        "print(\"Mean of Affected Area:\", Mean_area)\n",
        "\n",
        "Median_area = df['affected_area_sq_mi'].median()\n",
        "print(\" Median of Affected Area:\", Median_area)\n",
        "\n",
        "Standerd_Deviation_of_Area = df['affected_area_sq_mi'].std()\n",
        "print(\"Standerd Deviation of Affected Area\", Standerd_Deviation_of_Area)"
      ],
      "metadata": {
        "colab": {
          "base_uri": "https://localhost:8080/"
        },
        "id": "HtWbgXaQ2NFg",
        "outputId": "e20cc250-2319-45ba-95b7-ac746fbe300e"
      },
      "execution_count": null,
      "outputs": [
        {
          "output_type": "stream",
          "name": "stdout",
          "text": [
            "Mean of Affected Area: 402.4275862068965\n",
            " Median of Affected Area: 72.0\n",
            "Standerd Deviation of Affected Area 977.259670820311\n"
          ]
        }
      ]
    },
    {
      "cell_type": "markdown",
      "source": [
        "**Qn:potential outliers**"
      ],
      "metadata": {
        "id": "9Fw3RLhP8V1l"
      }
    },
    {
      "cell_type": "code",
      "source": [
        "import matplotlib.pyplot as plt\n",
        "import seaborn as sns\n",
        "num_col ='affected_area_sq_mi'\n",
        "if num_col in df.columns:\n",
        " Q1 = df[num_col].quantile(0.25)\n",
        " Q3 = df[num_col].quantile(0.75)\n",
        " IQR = Q3 - Q1\n",
        " lower_bound = Q1 - 1.5 * IQR\n",
        " upper_bound = Q3 + 1.5 * IQR\n",
        "\n",
        "outliers = df[(df[num_col] < lower_bound) | (df[num_col] > upper_bound)]\n",
        "print(\"Lower Bound:\",lower_bound)\n",
        "print(\"Upper Bound:\",upper_bound)\n",
        "print(\"Number of outliers:\", num_col,\":\", outliers.shape[0])\n",
        "\n",
        "if outliers.empty:\n",
        "  print(\"No outliers found\")\n",
        "else:\n",
        "  plt.figure(figsize=(5,3))\n",
        "  sns.boxplot(x=df[num_col])\n",
        "  plt.show()\n",
        "  print(outliers)"
      ],
      "metadata": {
        "colab": {
          "base_uri": "https://localhost:8080/",
          "height": 1000
        },
        "id": "tt1-jPuc5cQN",
        "outputId": "d24c0ace-ed43-4ada-f6de-d745e7b105f8"
      },
      "execution_count": 21,
      "outputs": [
        {
          "output_type": "stream",
          "name": "stdout",
          "text": [
            "Lower Bound: -210.0\n",
            "Upper Bound: 406.0\n",
            "Number of outliers: affected_area_sq_mi : 5\n"
          ]
        },
        {
          "output_type": "display_data",
          "data": {
            "text/plain": [
              "<Figure size 500x300 with 1 Axes>"
            ],
            "image/png": "[encoded data removed]"
          },
          "metadata": {}
        },
        {
          "output_type": "stream",
          "name": "stdout",
          "text": [
            "    OBJECTID           gwra_area_name             gwra_status  \\\n",
            "8          9                Fort Rock              Classified   \n",
            "23        24    Greater Harney Valley              Classified   \n",
            "25        26          Upper Deschutes  Groundwater Mitigation   \n",
            "26        27  Walla Walla Basin Study              Classified   \n",
            "28        29        Walla Walla SWMPA              Classified   \n",
            "\n",
            "                   gwra_ors         effective_date  \\\n",
            "8    OAR 690-513-0060(2)(n)  2/23/1990 12:00:00 AM   \n",
            "23         OAR 690-512-0020  4/15/2016 12:00:00 AM   \n",
            "25  OAR 690-505 and 690-521  8/13/2002 12:00:00 AM   \n",
            "26                      NaN  5/11/2017 12:00:00 AM   \n",
            "28         OAR 690-507-0030  5/11/2017 12:00:00 AM   \n",
            "\n",
            "            affected_aquifer_formation                         allowable_uses  \\\n",
            "8               Basin fill / volcanics  Most exempt use, QM others (see rule)   \n",
            "23              Basin fill / volcanics                        Exempt Use Only   \n",
            "25                                 ALL                         No restriction   \n",
            "26  Basin fill / Columbia River Basalt                   Exempt and Municipal   \n",
            "28  Basin fill / Columbia River Basalt                   Exempt and Municipal   \n",
            "\n",
            "      other_limitations  affected_area_sq_mi  \\\n",
            "8                   NaN               2161.0   \n",
            "23                  NaN               2416.0   \n",
            "25  Mitigation required               4500.0   \n",
            "26                  NaN                480.3   \n",
            "28                  NaN                480.3   \n",
            "\n",
            "                                         exhibit_link  \\\n",
            "8   http://www.oregon.gov/owrd/LAW/docs/law/690_50...   \n",
            "23  http://www.oregon.gov/owrd/LAW/docs/690-512Exh...   \n",
            "25  http://www.oregon.gov/owrd/law/docs/law/divisi...   \n",
            "26                                                NaN   \n",
            "28  http://www.oregon.gov/owrd/LAW/docs/law/690_50...   \n",
            "\n",
            "                                          source_link  \\\n",
            "8   https://secure.sos.state.or.us/oard/viewSingle...   \n",
            "23  https://secure.sos.state.or.us/oard/viewSingle...   \n",
            "25  http://arcweb.sos.state.or.us/pages/rules/oars...   \n",
            "26                                                NaN   \n",
            "28  https://secure.sos.state.or.us/oard/viewSingle...   \n",
            "\n",
            "         gwra_area_name_key  InPoly_FID  SimPgnFlag  MaxSimpTol  MinSimpTol  \\\n",
            "8                 Fort_Rock           9           0    10.00002    10.00002   \n",
            "23    Greater_Harney_Valley          24           0    10.00002    10.00002   \n",
            "25          Upper_Deschutes          26           0    10.00002    10.00002   \n",
            "26  Walla_Walla_Basin_Study          27           0    10.00002    10.00002   \n",
            "28        Walla_Walla_SWMPA          31           0    10.00002    10.00002   \n",
            "\n",
            "     Shape__Area  Shape__Length  \n",
            "8   1.056564e+10  415109.989065  \n",
            "23  1.186765e+10  920112.988664  \n",
            "25  2.264928e+10  953552.253533  \n",
            "26  9.574843e+09  562555.989142  \n",
            "28  2.564673e+09  295314.866102  \n"
          ]
        }
      ]
    },
    {
      "cell_type": "markdown",
      "source": [
        "**Qn: Correlation**"
      ],
      "metadata": {
        "id": "jIshvG3001rs"
      }
    },
    {
      "cell_type": "code",
      "source": [
        "correlation_matrix = df.corr(numeric_only=True)\n",
        "\n",
        "plt.figure(figsize=(8,4))\n",
        "sns.heatmap(correlation_matrix, annot=True, cmap='coolwarm')\n",
        "plt.title(\"Correlation Matrix\")\n",
        "plt.show()"
      ],
      "metadata": {
        "id": "m6pKQYxg9L0I",
        "colab": {
          "base_uri": "https://localhost:8080/",
          "height": 520
        },
        "outputId": "260ea83a-61dd-4e62-bd40-186f38c63da7"
      },
      "execution_count": 22,
      "outputs": [
        {
          "output_type": "display_data",
          "data": {
            "text/plain": [
              "<Figure size 800x400 with 2 Axes>"
            ],
            "image/png": "[encoded data removed]"
          },
          "metadata": {}
        }
      ]
    },
    {
      "cell_type": "markdown",
      "source": [
        "*The variables related to area and shape (e.g., affected_area_sq_mi, Shape__Area, Shape__Length) are highly interrelated,*\n",
        "*Affected_area_sq_mi and Shape__Area : Indicates that larger affected areas are strongly associated with larger shape areas.\n",
        "Shape__Area and Shape__Length: Suggests that larger shape areas generally correspond to longer shape perimeters.*\n",
        "*Affected_area_sq_mi and Shape__Length (0.90): Larger affected areas are moderately associated with longer shape perimeters.*\n",
        "\n",
        "\n",
        "\n"
      ],
      "metadata": {
        "id": "71d-I4amGlou"
      }
    },
    {
      "cell_type": "markdown",
      "source": [
        "**Qn:Agregate Statistics**"
      ],
      "metadata": {
        "id": "WfsT4-eL1J8W"
      }
    },
    {
      "cell_type": "code",
      "source": [
        "categorical_column = 'affected_aquifer_formation'\n",
        "numerical_column = 'affected_area_sq_mi'\n",
        "grouped_data = df.groupby(categorical_column)[numerical_column].mean()\n",
        "print(grouped_data)\n",
        "grouped_data_sum = df.groupby(categorical_column)[numerical_column].sum()\n",
        "print(grouped_data_sum)"
      ],
      "metadata": {
        "colab": {
          "base_uri": "https://localhost:8080/"
        },
        "id": "abOz2-sydNAB",
        "outputId": "bd843b60-2cee-40b1-b510-3b63f47579a5"
      },
      "execution_count": null,
      "outputs": [
        {
          "output_type": "stream",
          "name": "stdout",
          "text": [
            "affected_aquifer_formation\n",
            "ALL                                                               4500.000000\n",
            "Alluvial aquifer                                                    57.500000\n",
            "Basin fill / Columbia River Basalt                                 480.300000\n",
            "Basin fill / volcanics                                            2288.500000\n",
            "Columbia River Basalt                                               80.058824\n",
            "Columbia River Basalt Troutdale Formation                           20.000000\n",
            "Pomona & Priest Rapids qauifers of Columbia River Basalt Group       6.000000\n",
            "Sand Dune and Bedrock Aquifers                                      18.400000\n",
            "Shallow Troutdale, Deep Troutdale Formation                         22.000000\n",
            "Name: affected_area_sq_mi, dtype: float64\n",
            "affected_aquifer_formation\n",
            "ALL                                                               4500.0\n",
            "Alluvial aquifer                                                   115.0\n",
            "Basin fill / Columbia River Basalt                                 960.6\n",
            "Basin fill / volcanics                                            4577.0\n",
            "Columbia River Basalt                                             1361.0\n",
            "Columbia River Basalt Troutdale Formation                           20.0\n",
            "Pomona & Priest Rapids qauifers of Columbia River Basalt Group       6.0\n",
            "Sand Dune and Bedrock Aquifers                                      18.4\n",
            "Shallow Troutdale, Deep Troutdale Formation                         22.0\n",
            "Name: affected_area_sq_mi, dtype: float64\n"
          ]
        }
      ]
    },
    {
      "cell_type": "markdown",
      "source": [
        "**Qn: Brief Summary of data Set**"
      ],
      "metadata": {
        "id": "8SKCMKqUHssH"
      }
    },
    {
      "cell_type": "markdown",
      "source": [
        "The dataset contains information about 29 groundwater restricted areas (GWRAs), primarily from Oregon. Having 29 rows and 18 columns.The statistical summary highlights that the mean affected area is 402.43 square miles, with a median of 72.0 square miles, indicating a significant skew in the data due to large outliers, as evidenced by the standard deviation of 977.26 square miles. The lower and upper bounds of the affected area range from -210.0 to 406.0 square miles, with five outliers identified. Correlation analysis reveals that variables related to area and shape (e.g., affected_area_sq_mi, Shape__Area, Shape__Length) are highly interrelated, suggesting that larger affected areas correspond to larger shape areas and perimeters. In terms of aquifer formations, areas affected vary widely, with formations like \"Basin fill / volcanics\" and \"Columbia River Basalt\" having large affected areas, while others, like \"Pomona & Priest Rapids aquifers,\" have much smaller areas."
      ],
      "metadata": {
        "id": "w6mzsEeDIIEh"
      }
    },
    {
      "cell_type": "code",
      "source": [],
      "metadata": {
        "id": "qIUkH3SK2Kpp"
      },
      "execution_count": null,
      "outputs": []
    }
  ]
}